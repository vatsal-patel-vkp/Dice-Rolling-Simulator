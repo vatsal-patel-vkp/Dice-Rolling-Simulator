{
 "cells": [
  {
   "cell_type": "code",
   "execution_count": 6,
   "metadata": {},
   "outputs": [],
   "source": [
    "import tkinter\n",
    "from PIL import Image, ImageTk\n",
    "import random"
   ]
  },
  {
   "cell_type": "code",
   "execution_count": 7,
   "metadata": {},
   "outputs": [
    {
     "data": {
      "text/plain": [
       "''"
      ]
     },
     "execution_count": 7,
     "metadata": {},
     "output_type": "execute_result"
    }
   ],
   "source": [
    "root = tkinter.Tk()\n",
    "root.geometry('400x400')\n",
    "root.title('Rolling Dice Jupyter')"
   ]
  },
  {
   "cell_type": "code",
   "execution_count": 8,
   "metadata": {},
   "outputs": [],
   "source": [
    "Blankline = tkinter.Label(root, text= \"\")\n",
    "Blankline.pack()\n",
    "\n",
    "Headline = tkinter.Label(root, text= \"Hello There!!\", fg= \"lightgreen\", bg= \"darkgreen\", font= \"helvetica 16 bold italic\")\n",
    "Headline.pack()\n",
    "\n",
    "dice = ['Images/dice-1.png', 'Images/dice-2.png', 'Images/dice-3.png', 'Images/dice-4.png', 'Images/dice-5.png', 'Images/dice-6.png']\n",
    "\n",
    "DiceImage = ImageTk.PhotoImage(Image.open(random.choice(dice)))\n",
    "\n",
    "Imagelabel = tkinter.Label(root, image= DiceImage)\n",
    "Imagelabel.image = DiceImage\n",
    "\n",
    "Imagelabel.pack(expand= True)"
   ]
  },
  {
   "cell_type": "code",
   "execution_count": 9,
   "metadata": {},
   "outputs": [],
   "source": [
    "def rolling_dice():\n",
    "    DiceImage = ImageTk.PhotoImage(Image.open(random.choice(dice)))\n",
    "    # update image\n",
    "    Imagelabel.configure(image=DiceImage)\n",
    "    # keep a reference\n",
    "    Imagelabel.image = DiceImage\n",
    "# adding button, and command will use rolling_dice function\n",
    "button = tkinter.Button(root, text='Roll the Dice', fg='blue', command=rolling_dice)\n",
    "# pack a widget in the parent widget\n",
    "button.pack( expand=True)"
   ]
  },
  {
   "cell_type": "code",
   "execution_count": 10,
   "metadata": {},
   "outputs": [],
   "source": [
    "root.mainloop()"
   ]
  },
  {
   "cell_type": "code",
   "execution_count": null,
   "metadata": {},
   "outputs": [],
   "source": []
  },
  {
   "cell_type": "code",
   "execution_count": null,
   "metadata": {},
   "outputs": [],
   "source": []
  }
 ],
 "metadata": {
  "kernelspec": {
   "display_name": "Python 3",
   "language": "python",
   "name": "python3"
  },
  "language_info": {
   "codemirror_mode": {
    "name": "ipython",
    "version": 3
   },
   "file_extension": ".py",
   "mimetype": "text/x-python",
   "name": "python",
   "nbconvert_exporter": "python",
   "pygments_lexer": "ipython3",
   "version": "3.7.4"
  }
 },
 "nbformat": 4,
 "nbformat_minor": 2
}
